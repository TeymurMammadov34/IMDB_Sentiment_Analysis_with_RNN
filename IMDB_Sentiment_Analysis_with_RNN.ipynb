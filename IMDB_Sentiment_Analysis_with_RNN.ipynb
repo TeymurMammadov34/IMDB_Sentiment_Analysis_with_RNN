{
 "cells": [
  {
   "cell_type": "markdown",
   "id": "acc67cf0-2080-426a-bb52-f5df18b0cc9c",
   "metadata": {},
   "source": [
    "## Veri Setinin Yüklenmesi ve Ön İşlenmesi"
   ]
  },
  {
   "cell_type": "code",
   "execution_count": 51,
   "id": "c5db8729-4826-4068-b9c8-c8db21c544a4",
   "metadata": {},
   "outputs": [],
   "source": [
    "# Gerekli kütüphanelerin import edilmesi\n",
    "import numpy as np                        # Sayısal işlemler ve dizi manipülasyonları için kullanılır\n",
    "import matplotlib.pyplot as plt          # Grafik ve görselleştirme için kullanılır\n",
    "\n",
    "import tensorflow as tf                  # Derin öğrenme modelleri oluşturmak için temel kütüphane\n",
    "\n",
    "# TensorFlow içinden Keras modülleri import ediliyoruz\n",
    "from tensorflow.keras.datasets import imdb                         # IMDB veri seti (film yorumları) import ediliyoruz\n",
    "from tensorflow.keras.preprocessing.sequence import pad_sequences  # Dizi uzunluklarını eşitlemek için kullanacağız\n",
    "from tensorflow.keras.models import Sequential                     # Katmanlı model yapısı için\n",
    "from tensorflow.keras.layers import Embedding, SimpleRNN, Dense, Dropout  # Modelde kullanılacak katmanlar\n",
    "from tensorflow.keras.callbacks import EarlyStopping               # Aşırı öğrenmeyi (overfitting) önlemek için erken durdurma\n",
    "\n",
    "# Sklearn'den metrik hesaplama ve ROC eğrisi için fonksiyonlar\n",
    "from sklearn.metrics import classification_report, roc_curve, auc  # Performans değerlendirme için\n",
    "\n",
    "# Keras Tuner: Hiperparametre ayarlaması için kullanılan araç\n",
    "import kerastuner as kt\n",
    "from kerastuner.tuners import RandomSearch  # Rastgele arama ile en iyi parametrelerin bulunması\n",
    "\n",
    "# Uyarıları gizlemek için\n",
    "import warnings\n",
    "warnings.filterwarnings(\"ignore\")  # Çalışma esnasında ekranda çıkacak uyarıları gizler\n"
   ]
  },
  {
   "cell_type": "code",
   "execution_count": 53,
   "id": "527cf67b-46b9-4d40-b78c-e81688fdf475",
   "metadata": {},
   "outputs": [
    {
     "data": {
      "text/plain": [
       "(25000, 100)"
      ]
     },
     "execution_count": 53,
     "metadata": {},
     "output_type": "execute_result"
    }
   ],
   "source": [
    "# IMDB veri setini yüklüyoruz. Toplam 50.000 film yorumu içerir.\n",
    "# 'num_words=10000' parametresi, yalnızca en sık geçen 10.000 kelimeyi kullanacağımız anlamına gelir.\n",
    "# 0 -> olumsuz yorum, 1 -> olumlu yorum\n",
    "(x_train, y_train), (x_test, y_test) = imdb.load_data(num_words=10000)\n",
    "\n",
    "# Veri ön işleme:\n",
    "# RNN modelleri sabit uzunluktaki girişlere ihtiyaç duyar.\n",
    "# Bu yüzden tüm yorumları aynı uzunluğa getirmek için padding (doldurma) uyguluyoruz.\n",
    "\n",
    "maxlen = 100  # Tüm yorumları 100 kelime uzunluğuna getiriyoruz (fazlaysa kes, azsa başına 0 ekle)\n",
    "\n",
    "# Eğitim verisini pad ediyoruz\n",
    "x_train = pad_sequences(x_train, maxlen=maxlen)\n",
    "\n",
    "# Test verisini de aynı şekilde pad ediyoruz\n",
    "x_test = pad_sequences(x_test, maxlen=maxlen)\n",
    "\n",
    "# Eğitim verisinin boyutunu kontrol ediyoruz\n",
    "x_train.shape"
   ]
  },
  {
   "cell_type": "markdown",
   "id": "78d679cc-0b2a-40c2-8b74-b7b0718a1f60",
   "metadata": {},
   "source": [
    "## Modelin Oluşturulması (Hiperparametrelerle RNN Mimarisi)"
   ]
  },
  {
   "cell_type": "code",
   "execution_count": 54,
   "id": "5e85879c-308d-4976-a006-419c5e1536a4",
   "metadata": {},
   "outputs": [],
   "source": [
    "# Hiperparametre ayarlanabilir bir model fonksiyonu tanımlıyoruz\n",
    "# Bu fonksiyon Keras Tuner tarafından çağrılacak ve farklı kombinasyonlarda model eğitilecek\n",
    "def build_model(hp):  # hp: hyperparameter nesnesi, Keras Tuner tarafından sağlanır\n",
    "\n",
    "    model = Sequential()  # Katmanları sırayla ekleyeceğimiz temel model\n",
    "\n",
    "    # Embedding katmanı: kelimeleri (kelime ID'lerini) yoğun vektör temsillerine dönüştürür\n",
    "    model.add(Embedding(\n",
    "        input_dim=10000,  # Kelime sözlüğü boyutu (sadece en sık geçen 10.000 kelime)\n",
    "        output_dim=hp.Int(\"embedding_output\", min_value=32, max_value=128, step=32),  # Embedding vektör boyutu (32, 64, 96, 128)\n",
    "        input_length=maxlen  # Giriş dizisinin uzunluğu (önceden 100 olarak belirlenmişti)\n",
    "    ))\n",
    "\n",
    "    # SimpleRNN katmanı: zaman serisi verisini işler (örneğin kelime sırası)\n",
    "    model.add(SimpleRNN(\n",
    "        units=hp.Int(\"rnn_units\", min_value=32, max_value=256, step=32)  # RNN hücre sayısı (32, 64, ..., 256)\n",
    "    ))\n",
    "\n",
    "    # Dropout katmanı: Aşırı öğrenmeyi (overfitting) önlemek için bazı nöronları rastgele devre dışı bırakır\n",
    "    model.add(Dropout(\n",
    "        rate=hp.Float(\"dropout_rate\", min_value=0.2, max_value=0.5, step=0.1)  # 0.2, 0.3, 0.4, 0.5\n",
    "    ))\n",
    "\n",
    "    # Çıkış katmanı: İkili sınıflandırma için sigmoid aktivasyonlu tek nöron\n",
    "    model.add(Dense(1, activation=\"sigmoid\"))  # Çıktı değeri 0 ile 1 arasında olur\n",
    "\n",
    "    # Modeli derliyoruz (compile)\n",
    "    model.compile(\n",
    "        optimizer=hp.Choice(\"optimizer\", [\"adam\", \"rmsprop\"]),  # Optimizasyon algoritması seçimi\n",
    "        loss=\"binary_crossentropy\",  # İkili sınıflandırma için uygun kayıp fonksiyonu\n",
    "        metrics=[\"accuracy\", \"AUC\"]  # Doğruluk ve ROC eğrisi altında kalan alan (AUC) metriği\n",
    "    )\n",
    "\n",
    "    return model  # Modeli geri döndürüyoruz\n"
   ]
  },
  {
   "cell_type": "markdown",
   "id": "7a8feb1a-8ec9-47ec-b572-fa246c1bb13a",
   "metadata": {},
   "source": [
    "## Hiperparametre Araması ve Model Eğitimi"
   ]
  },
  {
   "cell_type": "code",
   "execution_count": 55,
   "id": "e2d52d7d-b03c-4a6f-9bb6-cef6b1acabba",
   "metadata": {},
   "outputs": [
    {
     "name": "stdout",
     "output_type": "stream",
     "text": [
      "Trial 4 Complete [00h 02m 20s]\n",
      "val_loss: 0.4108872413635254\n",
      "\n",
      "Best val_loss So Far: 0.4108872413635254\n",
      "Total elapsed time: 00h 41m 05s\n"
     ]
    }
   ],
   "source": [
    "# Hiperparametre araması için Keras Tuner'dan RandomSearch kullanıyoruz.\n",
    "# Amaç: Farklı model konfigürasyonlarıyla denemeler yaparak en iyi sonucu bulmak.\n",
    "\n",
    "tuner = RandomSearch(\n",
    "    build_model,               # Optimize edilecek model fonksiyonumuz\n",
    "    objective=\"val_loss\",      # Hedef metrik: doğrulama kaybı (en düşük val_loss en iyisidir)\n",
    "    max_trials=4,              # Toplamda 4 farklı hiperparametre kombinasyonu denenecek\n",
    "    executions_per_trial=1,    # Her kombinasyon için 1 kez eğitim yapılacak\n",
    "    directory=\"/RNN/rnn_tuner_directory\",  # Deneme sonuçlarının kaydedileceği dizin\n",
    "    project_name=\"imdb_rnn\"    # Proje adı (alt klasör oluşturulur)\n",
    ")\n",
    "\n",
    "# Erken durdurma mekanizması:\n",
    "# Doğrulama kaybı 5 epoch boyunca iyileşmezse eğitim durdurulur.\n",
    "early_stopping = EarlyStopping(\n",
    "    monitor=\"val_loss\",         # İzlenecek metrik: val_loss\n",
    "    patience=5,                 # Kaç epoch boyunca iyileşme beklenmeli\n",
    "    restore_best_weights=True  # En iyi ağırlıklar otomatik olarak geri yüklenir\n",
    ")\n",
    "\n",
    "# Modelin eğitilmesi ve hiperparametre araması başlatılır.\n",
    "tuner.search(\n",
    "    x_train, y_train,           # Eğitim verisi\n",
    "    epochs=10,                  # Her deneme için maksimum 10 epoch\n",
    "    validation_split=0.2,       # %20'lik kısmı doğrulama için ayrılır\n",
    "    callbacks=[early_stopping]  # Erken durdurma callback'i kullanılır\n",
    ")\n"
   ]
  },
  {
   "cell_type": "markdown",
   "id": "3c610589-9360-4e29-a817-3a1355720816",
   "metadata": {},
   "source": [
    "## En İyi Modelin Seçilmesi ve Test Verisi Üzerinde Değerlendirme"
   ]
  },
  {
   "cell_type": "code",
   "execution_count": 56,
   "id": "248e1abc-e9b7-4c69-b04a-108629a5614d",
   "metadata": {},
   "outputs": [
    {
     "name": "stdout",
     "output_type": "stream",
     "text": [
      "\u001b[1m782/782\u001b[0m \u001b[32m━━━━━━━━━━━━━━━━━━━━\u001b[0m\u001b[37m\u001b[0m \u001b[1m8s\u001b[0m 9ms/step - AUC: 0.9007 - accuracy: 0.8274 - loss: 0.4081 \n",
      "Test Loss: 0.406, Test Accuracy: 0.829, Test AUC: 0.902\n",
      "\u001b[1m782/782\u001b[0m \u001b[32m━━━━━━━━━━━━━━━━━━━━\u001b[0m\u001b[37m\u001b[0m \u001b[1m7s\u001b[0m 9ms/step \n",
      "              precision    recall  f1-score   support\n",
      "\n",
      "           0       0.83      0.83      0.83     12500\n",
      "           1       0.83      0.83      0.83     12500\n",
      "\n",
      "    accuracy                           0.83     25000\n",
      "   macro avg       0.83      0.83      0.83     25000\n",
      "weighted avg       0.83      0.83      0.83     25000\n",
      "\n",
      "ROC AUC: 0.902\n"
     ]
    }
   ],
   "source": [
    "# Tuner tarafından denenen modeller arasından en iyi performansı gösteren modeli alıyoruz.\n",
    "best_model = tuner.get_best_models(num_models=1)[0]\n",
    "\n",
    "# Seçilen en iyi modeli test verisi üzerinde değerlendiriyoruz.\n",
    "loss, accuracy, auc_score = best_model.evaluate(x_test, y_test)\n",
    "\n",
    "# Sonuçları yazdırıyoruz\n",
    "print(f\"Test Loss: {loss:.3f}, Test Accuracy: {accuracy:.3f}, Test AUC: {auc_score:.3f}\")\n",
    "\n",
    "# Model ile test verisi üzerinde tahmin yapıyoruz.\n",
    "y_pred_prob = best_model.predict(x_test)\n",
    "\n",
    "# Tahmin edilen olasılıkları ikili sınıflara çeviriyoruz:\n",
    "# 0.5'ten büyükse 1 (olumlu), değilse 0 (olumsuz)\n",
    "y_pred = (y_pred_prob > 0.5).astype(\"int32\")\n",
    "\n",
    "# Modelin sınıflandırma başarımını detaylı olarak raporluyoruz\n",
    "print(classification_report(y_test, y_pred))\n",
    "\n",
    "# ROC eğrisi için gerekli olan false positive rate (fpr) ve true positive rate (tpr) değerlerini hesaplıyoruz\n",
    "fpr, tpr, _ = roc_curve(y_test, y_pred_prob)\n",
    "\n",
    "# ROC eğrisinin altındaki alan (AUC) ne kadar büyükse, model o kadar iyi ayrım yapıyordur\n",
    "roc_auc = auc(fpr, tpr)\n",
    "print(f\"ROC AUC: {roc_auc:.3f}\")"
   ]
  },
  {
   "cell_type": "markdown",
   "id": "a63720d7-1adb-4998-82e0-8330de101774",
   "metadata": {},
   "source": [
    "## ROC Eğrisinin Görselleştirilmesi"
   ]
  },
  {
   "cell_type": "code",
   "execution_count": 57,
   "id": "af78b227-9a40-45d9-9869-e972ec501e23",
   "metadata": {},
   "outputs": [
    {
     "data": {
      "image/png": "[encoded data removed]",
      "text/plain": [
       "<Figure size 640x480 with 1 Axes>"
      ]
     },
     "metadata": {},
     "output_type": "display_data"
    }
   ],
   "source": [
    "# Yeni bir figür (grafik) oluşturuyoruz\n",
    "plt.figure()\n",
    "\n",
    "# ROC eğrisini çiziyoruz\n",
    "plt.plot(fpr, tpr, color=\"darkorange\", lw=2, \n",
    "         label=\"ROC Curve (area = %0.2f)\" % roc_auc)\n",
    "\n",
    "# Model rastgele tahmin yapsaydı oluşacak eğri (diyagonal çizgi)\n",
    "plt.plot([0, 1], [0, 1], color=\"blue\", lw=2, linestyle=\"--\")\n",
    "\n",
    "# X ve Y eksen sınırlarını belirliyoruz\n",
    "plt.xlim([0, 1])\n",
    "plt.ylim([0, 1.05])\n",
    "\n",
    "# Eksen etiketleri\n",
    "plt.xlabel(\"False Positive Rate (FPR)\")\n",
    "plt.ylabel(\"True Positive Rate (TPR)\")\n",
    "\n",
    "# Grafik başlığı\n",
    "plt.title(\"Receiver Operating Characteristic (ROC) Curve\")\n",
    "\n",
    "# Etiketleri gösteriyoruz (ROC alanı dahil)\n",
    "plt.legend()\n",
    "\n",
    "# Grafiği ekrana çizdiriyoruz\n",
    "plt.show()"
   ]
  }
 ],
 "metadata": {
  "kernelspec": {
   "display_name": "Python 3 (ipykernel)",
   "language": "python",
   "name": "python3"
  },
  "language_info": {
   "codemirror_mode": {
    "name": "ipython",
    "version": 3
   },
   "file_extension": ".py",
   "mimetype": "text/x-python",
   "name": "python",
   "nbconvert_exporter": "python",
   "pygments_lexer": "ipython3",
   "version": "3.12.7"
  }
 },
 "nbformat": 4,
 "nbformat_minor": 5
}
